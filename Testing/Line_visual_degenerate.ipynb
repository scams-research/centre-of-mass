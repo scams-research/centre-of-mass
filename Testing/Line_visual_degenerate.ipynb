{
 "cells": [
  {
   "cell_type": "markdown",
   "metadata": {},
   "source": []
  },
  {
   "cell_type": "code",
   "execution_count": 29,
   "metadata": {},
   "outputs": [],
   "source": [
    "import numpy as np\n",
    "import matplotlib.pyplot as plt\n",
    "from matplotlib.colors import ListedColormap\n",
    "import seaborn as sns\n",
    "import MDAnalysis as mda\n",
    "from MDAnalysis.coordinates.memory import MemoryReader\n",
    "from MDAnalysis.transformations import wrap \n",
    "from MDAnalysis.transformations.boxdimensions import set_dimensions\n",
    "\n",
    "\n",
    "my_cmap = ListedColormap(sns.color_palette('pastel').as_hex())"
   ]
  },
  {
   "cell_type": "markdown",
   "metadata": {},
   "source": [
    "# Functions defined"
   ]
  },
  {
   "cell_type": "code",
   "execution_count": null,
   "metadata": {},
   "outputs": [],
   "source": []
  },
  {
   "cell_type": "code",
   "execution_count": null,
   "metadata": {},
   "outputs": [],
   "source": []
  },
  {
   "cell_type": "code",
   "execution_count": 30,
   "metadata": {},
   "outputs": [],
   "source": [
    "def pi_centrer(coords,weights,box_min, box_width):\n",
    "\n",
    "    frac_coords = (coords - box_min) / box_width\n",
    "    theta = frac_coords * (2 * np.pi) \n",
    "    xi = np.cos(theta)\n",
    "    zeta = np.sin(theta)\n",
    "    xi_bar = np.average(xi,weights=weights)\n",
    "    zeta_bar = np.average(zeta,weights=weights)\n",
    "    theta_bar = np.arctan2(-zeta_bar, -xi_bar) + np.pi\n",
    "    new_s_coords = (theta_bar) / (2 * np.pi)\n",
    "    new_s_coords = new_s_coords*box_width + box_min\n",
    "\n",
    "    return new_s_coords"
   ]
  },
  {
   "cell_type": "code",
   "execution_count": 31,
   "metadata": {},
   "outputs": [],
   "source": [
    "def xi_zeta_calc(masses,coords):\n",
    "    box_min = 0\n",
    "    box_width = 20\n",
    "    frac_coords = (coords - box_min) / box_width \n",
    "    theta = frac_coords * (2 * np.pi) + np.pi\n",
    "    xi = np.cos(theta)\n",
    "    zeta = np.sin(theta)\n",
    "    return xi, zeta"
   ]
  },
  {
   "cell_type": "code",
   "execution_count": 32,
   "metadata": {},
   "outputs": [],
   "source": [
    "def xi_zeta_bar_calc(masses,coords):\n",
    "    box_min = 0\n",
    "    box_width = 20\n",
    "    frac_coords = (coords - box_min) / box_width\n",
    "    theta = frac_coords * (2 * np.pi) + np.pi\n",
    "    xi = np.cos(theta)\n",
    "    zeta = np.sin(theta)    \n",
    "    xi_bar = np.average(xi,weights=masses)\n",
    "    zeta_bar = np.average(zeta,weights=masses)\n",
    "    theta_bar = np.arctan2(-zeta_bar, -xi_bar) \n",
    "    return xi_bar, zeta_bar, theta_bar"
   ]
  },
  {
   "cell_type": "code",
   "execution_count": 33,
   "metadata": {},
   "outputs": [],
   "source": [
    "def test_pi_centrer(masses,x_coords):\n",
    "\n",
    "    box_min = 0\n",
    "    box_max = 20\n",
    "    box_width = box_max - box_min\n",
    "    particles = len(masses)\n",
    "\n",
    "    yz = np.zeros((2, particles))\n",
    "    x_coords = x_coords % 20\n",
    "    coords = np.concatenate((x_coords[np.newaxis, :], yz), axis=0).T\n",
    "\n",
    "\n",
    "    u = mda.Universe.empty(particles ,trajectory = True)\n",
    "    u.add_TopologyAttr('masses',masses)\n",
    "    #u.add_TopologyAttr('dimensions', np.array[20,20,20,90,90,90])\n",
    "    u.transfer_to_memory()\n",
    "    #u.add_TopologyAttr('bonds', )\n",
    "\n",
    "\n",
    "\n",
    "    reader = MemoryReader(coords)\n",
    "    u.trajectory = reader\n",
    "    dim = np.array([box_max, box_max, box_max, 90, 90, 90])\n",
    "    transform1 = mda.transformations.boxdimensions.set_dimensions(dim)\n",
    "    transform2 = wrap(u.atoms)\n",
    "    workflow  = [transform1,transform2]\n",
    "    u.trajectory.add_transformations(*workflow)\n",
    "\n",
    "    u.add_bonds([tuple(range(i, i+2)) for i in range(0, particles-1)])\n",
    "\n",
    "    u.atoms.unwrap()\n",
    "    MDA_com = u.atoms.center_of_mass()[0]\n",
    "    com_pi = pi_centrer(coords[:,0], masses,box_min,box_width)\n",
    "    corrected_com = (np.average(((coords[:,0] - (com_pi + 0.5*box_width) ) % box_max), weights = masses) + (com_pi + 0.5*box_width)) % box_max\n",
    "    wrapped = ((coords[:,0] - (com_pi + 0.5*box_width) ) % box_max)\n",
    "\n",
    "    return MDA_com, com_pi, corrected_com "
   ]
  },
  {
   "cell_type": "markdown",
   "metadata": {},
   "source": [
    "# Plotting"
   ]
  },
  {
   "cell_type": "code",
   "execution_count": 34,
   "metadata": {},
   "outputs": [
    {
     "data": {
      "text/plain": [
       "<matplotlib.legend.Legend at 0x1723cbc50>"
      ]
     },
     "execution_count": 34,
     "metadata": {},
     "output_type": "execute_result"
    },
    {
     "data": {
      "image/png": "[encoded data removed]",
      "text/plain": [
       "<Figure size 1200x200 with 1 Axes>"
      ]
     },
     "metadata": {},
     "output_type": "display_data"
    }
   ],
   "source": [
    "\n",
    "particles = 3\n",
    "\n",
    "coords = np.array([5.1,14.9,6])\n",
    "masses =np.array([1,1,1])\n",
    "\n",
    "fig,ax = plt.subplots(1,1,figsize = (12,2))\n",
    "\n",
    "\n",
    "# draw lines\n",
    "xmin = 0\n",
    "xmax = 20\n",
    "y1 = 0\n",
    "height = 1\n",
    "\n",
    "ax.set_xlim(-1,21)\n",
    "ax.set_ylim(-1,1)\n",
    "ax.hlines(y1, xmin, xmax, color = 'blue', alpha = 0.4)\n",
    "ax.vlines(xmin, y1 - height / 2., y1 + height / 2.,color = 'blue', alpha = 0.4)\n",
    "ax.vlines(xmax, y1 - height / 2., y1 + height / 2.,color = 'blue', alpha = 0.4)\n",
    "ax.set_yticklabels([])\n",
    "ax.set_yticks([])\n",
    "ax.set_xticklabels([])\n",
    "ax.set_xticks([])\n",
    "\n",
    "l_set = 4\n",
    "s_set = 200\n",
    "marker_set = 20\n",
    "\n",
    "\n",
    "ax.scatter(coords,np.zeros(particles), s = s_set, color = ['black','black','orange'], zorder=8)#size = np.sqrt(masses)*100, color = 'orange')\n",
    "ax.plot(coords,np.zeros(particles), color = 'grey', alpha = 0.8, linewidth = l_set)\n",
    "ax.scatter(np.average(coords, weights=masses),0, s=s_set, color = 'green', marker = 'X', label = 'True molecule Centre of Mass',zorder=10, alpha=0.8)\n",
    "\n",
    "\n",
    "mda_com, com_pi, corrected_com = test_pi_centrer(masses,coords)\n",
    "\n",
    "\n",
    "ax.scatter(com_pi,0, s=s_set, color = 'red', marker = 'X', label = 'B&B calculated Centre of Mass',zorder=10, alpha=0.8)\n",
    "\n",
    "ax.legend(loc = 'upper left')\n"
   ]
  },
  {
   "cell_type": "code",
   "execution_count": 35,
   "metadata": {},
   "outputs": [],
   "source": [
    "from matplotlib.patches import Arc"
   ]
  },
  {
   "cell_type": "code",
   "execution_count": 36,
   "metadata": {},
   "outputs": [
    {
     "data": {
      "text/plain": [
       "[<matplotlib.lines.Line2D at 0x1727b8440>]"
      ]
     },
     "execution_count": 36,
     "metadata": {},
     "output_type": "execute_result"
    },
    {
     "data": {
      "image/png": "[encoded data removed]",
      "text/plain": [
       "<Figure size 400x400 with 1 Axes>"
      ]
     },
     "metadata": {},
     "output_type": "display_data"
    }
   ],
   "source": [
    "\n",
    "\n",
    "fig,ax = plt.subplots(figsize = (4,4))\n",
    "\n",
    "ax.set_xlim(-1.1,1.06)\n",
    "ax.set_ylim(-1.1,1.06)\n",
    "\n",
    "ax.set_yticklabels([])\n",
    "ax.set_yticks([])\n",
    "ax.set_xticklabels([])\n",
    "ax.set_xticks([])\n",
    "\n",
    "\n",
    "circle = plt.Circle((0, 0), 1, fill=False,color = 'blue', alpha = 0.6)  # `fill=False` for an unfilled circle\n",
    "ax.add_artist(circle)\n",
    "ax.axhline(0, 0.02,0.07, color = 'blue', alpha = 0.6)\n",
    "\n",
    "\n",
    "xi, zeta = xi_zeta_calc(masses,coords)\n",
    "ax.scatter(xi,zeta, color=['black','black','red'], s = 200, zorder=10)\n",
    "ax.scatter(0,0, color='blue', s = 20, zorder=10, alpha = 0.6)\n",
    "\n",
    "xi_bar, zeta_bar, theta_bar = xi_zeta_bar_calc(masses,coords)\n",
    "\n",
    "xi_calc,zeta_calc = xi_zeta_calc(masses,com_pi)\n",
    "\n",
    "# Add arcs between points\n",
    "for i in range(len(xi)-1):\n",
    "    for j in range(i , len(xi)-1):\n",
    "        angle1 = np.degrees(np.arctan2(zeta[i], xi[i]))\n",
    "        angle2 = np.degrees(np.arctan2(zeta[j], xi[j]))\n",
    "        start_angle = min(angle1, angle2)\n",
    "        end_angle = max(angle1, angle2)\n",
    "\n",
    "        # Add an arc between the two points\n",
    "        arc = Arc((0, 0), 2, 2, theta1=start_angle, theta2=196, color='gray', alpha=0.7, linewidth =l_set, zorder=1)\n",
    "        ax.add_patch(arc)\n",
    "\n",
    "\n",
    "ax.scatter(xi_bar,zeta_bar, color='orange', marker = 'X', s = 80, zorder=10)\n",
    "ax.plot([0,xi_calc],[0,zeta_calc], color = 'orange', alpha = 0.8, linewidth = 2)\n"
   ]
  },
  {
   "cell_type": "code",
   "execution_count": 37,
   "metadata": {},
   "outputs": [
    {
     "data": {
      "text/plain": [
       "6.186345202725536"
      ]
     },
     "execution_count": 37,
     "metadata": {},
     "output_type": "execute_result"
    }
   ],
   "source": [
    "com_pi"
   ]
  },
  {
   "cell_type": "code",
   "execution_count": 38,
   "metadata": {},
   "outputs": [
    {
     "data": {
      "text/plain": [
       "8.666666666666664"
      ]
     },
     "execution_count": 38,
     "metadata": {},
     "output_type": "execute_result"
    }
   ],
   "source": [
    "corrected_com"
   ]
  },
  {
   "cell_type": "code",
   "execution_count": 39,
   "metadata": {},
   "outputs": [],
   "source": [
    "pseudo_coords = (coords - (com_pi + 0.5*20)) % 20"
   ]
  },
  {
   "cell_type": "code",
   "execution_count": 40,
   "metadata": {},
   "outputs": [
    {
     "data": {
      "text/plain": [
       "12.480321463941129"
      ]
     },
     "execution_count": 40,
     "metadata": {},
     "output_type": "execute_result"
    }
   ],
   "source": [
    "np.average(pseudo_coords, weights=masses)"
   ]
  },
  {
   "cell_type": "markdown",
   "metadata": {},
   "source": []
  },
  {
   "cell_type": "code",
   "execution_count": 44,
   "metadata": {},
   "outputs": [
    {
     "data": {
      "text/plain": [
       "<matplotlib.legend.Legend at 0x1728027b0>"
      ]
     },
     "execution_count": 44,
     "metadata": {},
     "output_type": "execute_result"
    },
    {
     "data": {
      "image/png": "[encoded data removed]",
      "text/plain": [
       "<Figure size 1400x200 with 1 Axes>"
      ]
     },
     "metadata": {},
     "output_type": "display_data"
    }
   ],
   "source": [
    "fig,ax = plt.subplots(figsize = (14,2))\n",
    "\n",
    "ax.set_xlim(-1,21)\n",
    "ax.set_ylim(-1,1)\n",
    "ax.hlines(y1, xmin, xmax, color = 'blue', alpha = 0.4)\n",
    "ax.vlines(xmin, y1 - height / 2., y1 + height / 2.,color = 'blue', alpha = 0.4)\n",
    "ax.vlines(xmax, y1 - height / 2., y1 + height / 2.,color = 'blue', alpha = 0.4)\n",
    "ax.set_yticklabels([])\n",
    "ax.set_yticks([])\n",
    "ax.set_xticklabels([])\n",
    "ax.set_xticks([])\n",
    "\n",
    "\n",
    "ax.scatter(pseudo_coords,np.zeros(particles), s = s_set, color = ['black','black','orange'], zorder=8, alpha = 0.8)#size = np.sqrt(masses)*100, color = 'orange')\n",
    "ax.plot(pseudo_coords,np.zeros(particles), color = 'grey', alpha = 0.8, linewidth = l_set)\n",
    "ax.vlines(10, y1 - height / 2., y1 + height / 2.,color = 'red', alpha = 0.4, label = 'B&B COM recentering point')\n",
    "ax.scatter(np.average(pseudo_coords, weights=masses),0, s=s_set, color = 'green', marker = 'X', label = 'Corrected COM',zorder=10, alpha=0.8)\n",
    "\n",
    "\n",
    "\n",
    "\n",
    "ax.legend(loc = 'upper left')"
   ]
  },
  {
   "cell_type": "code",
   "execution_count": 42,
   "metadata": {},
   "outputs": [
    {
     "data": {
      "text/plain": [
       "12.480321463941129"
      ]
     },
     "execution_count": 42,
     "metadata": {},
     "output_type": "execute_result"
    }
   ],
   "source": [
    "np.average(pseudo_coords, weights=masses)"
   ]
  },
  {
   "cell_type": "code",
   "execution_count": 43,
   "metadata": {},
   "outputs": [
    {
     "data": {
      "text/plain": [
       "10"
      ]
     },
     "execution_count": 43,
     "metadata": {},
     "output_type": "execute_result"
    }
   ],
   "source": [
    "10"
   ]
  },
  {
   "cell_type": "code",
   "execution_count": null,
   "metadata": {},
   "outputs": [],
   "source": []
  }
 ],
 "metadata": {
  "kernelspec": {
   "display_name": "base",
   "language": "python",
   "name": "python3"
  },
  "language_info": {
   "codemirror_mode": {
    "name": "ipython",
    "version": 3
   },
   "file_extension": ".py",
   "mimetype": "text/x-python",
   "name": "python",
   "nbconvert_exporter": "python",
   "pygments_lexer": "ipython3",
   "version": "3.12.2"
  }
 },
 "nbformat": 4,
 "nbformat_minor": 2
}
