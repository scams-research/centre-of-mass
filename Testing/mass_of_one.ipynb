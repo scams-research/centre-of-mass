{
 "cells": [
  {
   "cell_type": "code",
   "execution_count": 1,
   "metadata": {},
   "outputs": [],
   "source": [
    "import MDAnalysis as mda\n",
    "from MDAnalysis.coordinates.memory import MemoryReader\n",
    "from MDAnalysis.transformations import wrap \n",
    "from MDAnalysis.transformations.boxdimensions import set_dimensions\n",
    "import numpy as np\n",
    "import pandas as pd\n",
    "from sklearn.metrics import mean_squared_error\n",
    "import pickle as pkl"
   ]
  },
  {
   "cell_type": "code",
   "execution_count": 2,
   "metadata": {},
   "outputs": [],
   "source": [
    "def pi_centrer(coords,weights,box_min, box_width):\n",
    "\n",
    "    frac_coords = (coords - box_min) / box_width\n",
    "    theta = frac_coords * (2 * np.pi) - np.pi\n",
    "    xi = np.cos(theta)\n",
    "    zeta = np.sin(theta)\n",
    "    xi_bar = np.average(xi,weights=weights)\n",
    "    zeta_bar = np.average(zeta,weights=weights)\n",
    "    theta_bar = np.arctan2(zeta_bar, xi_bar)\n",
    "    new_s_coords = (theta_bar + np.pi) / (2 * np.pi)\n",
    "    new_s_coords = new_s_coords*box_width + box_min\n",
    "\n",
    "    return new_s_coords"
   ]
  },
  {
   "cell_type": "code",
   "execution_count": 3,
   "metadata": {},
   "outputs": [
    {
     "name": "stderr",
     "output_type": "stream",
     "text": [
      "100%|██████████| 1000000/1000000 [09:50<00:00, 1694.35it/s]\n"
     ]
    }
   ],
   "source": [
    "# masses = np.random.rand(5)*10   #np.array([10000,1,1,1,1])\n",
    "# coords = np.random.rand(5,3)*20 \n",
    "from tqdm import tqdm\n",
    "\n",
    "particles = 5\n",
    "box_min = 0\n",
    "box_max = 20\n",
    "box_width = box_max - box_min\n",
    "\n",
    "broken = []\n",
    "run_store = []\n",
    "\n",
    "for i in tqdm(range(1000000)):\n",
    "\n",
    "\n",
    "    masses = np.array((1,1,1,1,1))\n",
    "    # masses[np.random.randint(0,particles)] *= 100\n",
    "\n",
    "\n",
    "\n",
    "    x_coords = (np.random.uniform(low = -5, high = 5, size = particles)).astype('float32') % 20\n",
    "    yz = np.zeros((2, particles))\n",
    "    coords = np.concatenate((x_coords[np.newaxis, :], yz), axis=0).T\n",
    "\n",
    "\n",
    "    u = mda.Universe.empty(5 ,trajectory = True)\n",
    "\n",
    "    u.add_TopologyAttr('masses',masses)\n",
    "    #u.add_TopologyAttr('dimensions', np.array[20,20,20,90,90,90])\n",
    "    u.transfer_to_memory()\n",
    "    #u.add_TopologyAttr('bonds', )\n",
    "\n",
    "\n",
    "\n",
    "    reader = MemoryReader(coords)\n",
    "\n",
    "    u.trajectory = reader\n",
    "    dim = np.array([box_max, box_max, box_max, 90, 90, 90])\n",
    "    transform1 = mda.transformations.boxdimensions.set_dimensions(dim)\n",
    "    transform2 = wrap(u.atoms)\n",
    "    workflow  = [transform1,transform2]\n",
    "    u.trajectory.add_transformations(*workflow)\n",
    "\n",
    "    u.add_bonds([tuple(range(i, i+2)) for i in range(0, 4)])\n",
    "\n",
    "    u.atoms.unwrap()\n",
    "    MDA_com = u.atoms.center_of_mass()[0]\n",
    "    com_pi = pi_centrer(coords[:,0], masses,box_min,box_width)\n",
    "    corrected_com = (np.average(((coords[:,0] - (com_pi + 0.5*box_width) ) % box_max), weights = masses) + (com_pi + 0.5*box_width)) % box_max\n",
    "    wrapped = ((coords[:,0] - (com_pi + 0.5*box_width) ) % box_max)\n",
    "\n",
    "    if np.isclose(MDA_com,corrected_com, atol = 1.1e-6):\n",
    "        pass\n",
    "    else:\n",
    "        #raise ValueError\n",
    "        broken.append([MDA_com,com_pi,corrected_com,coords,masses])\n",
    "        \n",
    "    run_store.append([MDA_com,com_pi,corrected_com,coords,masses])"
   ]
  },
  {
   "cell_type": "code",
   "execution_count": 4,
   "metadata": {},
   "outputs": [],
   "source": [
    "MDA_com,com_pi,corrected_com,coords,masses = zip(*run_store)"
   ]
  },
  {
   "cell_type": "code",
   "execution_count": 5,
   "metadata": {},
   "outputs": [],
   "source": [
    "MDA_com = np.array(MDA_com)\n",
    "com_pi = np.array(com_pi)\n",
    "corrected_com = np.array(corrected_com)\n",
    "coords= np.array(coords)\n",
    "masses = np.array(masses)\n",
    "pi_percent_diff = np.abs((np.abs(MDA_com - com_pi) / MDA_com) *100)\n",
    "corr_percent_diff = np.abs((np.abs(MDA_com - corrected_com) / MDA_com) * 100)"
   ]
  },
  {
   "cell_type": "code",
   "execution_count": 6,
   "metadata": {},
   "outputs": [],
   "source": [
    "df = pd.DataFrame(data={'MDA_com':MDA_com, 'com_pi':com_pi, 'corrected_com':corrected_com, 'pi_percent_diff':pi_percent_diff, 'corr_percent_diff':corr_percent_diff})"
   ]
  },
  {
   "cell_type": "code",
   "execution_count": 7,
   "metadata": {},
   "outputs": [],
   "source": [
    "# df.to_pickle('1mill_com.pkl')\n",
    "# np.save('masses.npy',masses)\n",
    "# np.save('coords.npy',coords)"
   ]
  },
  {
   "cell_type": "code",
   "execution_count": 8,
   "metadata": {},
   "outputs": [
    {
     "name": "stdout",
     "output_type": "stream",
     "text": [
      "RMS PI: 3.782824332016914\n",
      "RMS CORR: 0.020000000048558134\n"
     ]
    }
   ],
   "source": [
    "rms_p = np.sqrt(mean_squared_error(df['MDA_com'], df['com_pi']))\n",
    "rms_cor = np.sqrt(mean_squared_error(df['MDA_com'], df['corrected_com']))\n",
    "\n",
    "print(f\"RMS PI: {rms_p}\")\n",
    "print(f\"RMS CORR: {rms_cor}\")"
   ]
  },
  {
   "cell_type": "code",
   "execution_count": 9,
   "metadata": {},
   "outputs": [
    {
     "data": {
      "text/html": [
       "<div>\n",
       "<style scoped>\n",
       "    .dataframe tbody tr th:only-of-type {\n",
       "        vertical-align: middle;\n",
       "    }\n",
       "\n",
       "    .dataframe tbody tr th {\n",
       "        vertical-align: top;\n",
       "    }\n",
       "\n",
       "    .dataframe thead th {\n",
       "        text-align: right;\n",
       "    }\n",
       "</style>\n",
       "<table border=\"1\" class=\"dataframe\">\n",
       "  <thead>\n",
       "    <tr style=\"text-align: right;\">\n",
       "      <th></th>\n",
       "      <th>MDA_com</th>\n",
       "      <th>com_pi</th>\n",
       "      <th>corrected_com</th>\n",
       "      <th>pi_percent_diff</th>\n",
       "      <th>corr_percent_diff</th>\n",
       "    </tr>\n",
       "  </thead>\n",
       "  <tbody>\n",
       "    <tr>\n",
       "      <th>282055</th>\n",
       "      <td>1.209974e-06</td>\n",
       "      <td>19.785179</td>\n",
       "      <td>9.357929e-07</td>\n",
       "      <td>1.635173e+09</td>\n",
       "      <td>2.266010e+01</td>\n",
       "    </tr>\n",
       "    <tr>\n",
       "      <th>867731</th>\n",
       "      <td>1.373291e-05</td>\n",
       "      <td>19.954875</td>\n",
       "      <td>1.376867e-05</td>\n",
       "      <td>1.453069e+08</td>\n",
       "      <td>2.604167e-01</td>\n",
       "    </tr>\n",
       "    <tr>\n",
       "      <th>349360</th>\n",
       "      <td>1.599789e-05</td>\n",
       "      <td>19.514644</td>\n",
       "      <td>1.573563e-05</td>\n",
       "      <td>1.219825e+08</td>\n",
       "      <td>1.639344e+00</td>\n",
       "    </tr>\n",
       "    <tr>\n",
       "      <th>748124</th>\n",
       "      <td>2.079010e-05</td>\n",
       "      <td>19.857598</td>\n",
       "      <td>2.048016e-05</td>\n",
       "      <td>9.551458e+07</td>\n",
       "      <td>1.490826e+00</td>\n",
       "    </tr>\n",
       "    <tr>\n",
       "      <th>218165</th>\n",
       "      <td>3.426075e-05</td>\n",
       "      <td>19.471453</td>\n",
       "      <td>3.376007e-05</td>\n",
       "      <td>5.683302e+07</td>\n",
       "      <td>1.461378e+00</td>\n",
       "    </tr>\n",
       "    <tr>\n",
       "      <th>816423</th>\n",
       "      <td>4.272461e-05</td>\n",
       "      <td>19.868368</td>\n",
       "      <td>4.312992e-05</td>\n",
       "      <td>4.650323e+07</td>\n",
       "      <td>9.486607e-01</td>\n",
       "    </tr>\n",
       "    <tr>\n",
       "      <th>761263</th>\n",
       "      <td>5.776882e-05</td>\n",
       "      <td>19.880306</td>\n",
       "      <td>5.726814e-05</td>\n",
       "      <td>3.441346e+07</td>\n",
       "      <td>8.666942e-01</td>\n",
       "    </tr>\n",
       "    <tr>\n",
       "      <th>185414</th>\n",
       "      <td>5.836487e-05</td>\n",
       "      <td>19.969610</td>\n",
       "      <td>5.860329e-05</td>\n",
       "      <td>3.421502e+07</td>\n",
       "      <td>4.084967e-01</td>\n",
       "    </tr>\n",
       "    <tr>\n",
       "      <th>700333</th>\n",
       "      <td>5.950928e-05</td>\n",
       "      <td>19.842598</td>\n",
       "      <td>5.955696e-05</td>\n",
       "      <td>3.334361e+07</td>\n",
       "      <td>8.012821e-02</td>\n",
       "    </tr>\n",
       "    <tr>\n",
       "      <th>517586</th>\n",
       "      <td>-7.629395e-07</td>\n",
       "      <td>0.230475</td>\n",
       "      <td>2.000000e+01</td>\n",
       "      <td>3.020889e+07</td>\n",
       "      <td>2.621440e+09</td>\n",
       "    </tr>\n",
       "  </tbody>\n",
       "</table>\n",
       "</div>"
      ],
      "text/plain": [
       "             MDA_com     com_pi  corrected_com  pi_percent_diff  \\\n",
       "282055  1.209974e-06  19.785179   9.357929e-07     1.635173e+09   \n",
       "867731  1.373291e-05  19.954875   1.376867e-05     1.453069e+08   \n",
       "349360  1.599789e-05  19.514644   1.573563e-05     1.219825e+08   \n",
       "748124  2.079010e-05  19.857598   2.048016e-05     9.551458e+07   \n",
       "218165  3.426075e-05  19.471453   3.376007e-05     5.683302e+07   \n",
       "816423  4.272461e-05  19.868368   4.312992e-05     4.650323e+07   \n",
       "761263  5.776882e-05  19.880306   5.726814e-05     3.441346e+07   \n",
       "185414  5.836487e-05  19.969610   5.860329e-05     3.421502e+07   \n",
       "700333  5.950928e-05  19.842598   5.955696e-05     3.334361e+07   \n",
       "517586 -7.629395e-07   0.230475   2.000000e+01     3.020889e+07   \n",
       "\n",
       "        corr_percent_diff  \n",
       "282055       2.266010e+01  \n",
       "867731       2.604167e-01  \n",
       "349360       1.639344e+00  \n",
       "748124       1.490826e+00  \n",
       "218165       1.461378e+00  \n",
       "816423       9.486607e-01  \n",
       "761263       8.666942e-01  \n",
       "185414       4.084967e-01  \n",
       "700333       8.012821e-02  \n",
       "517586       2.621440e+09  "
      ]
     },
     "execution_count": 9,
     "metadata": {},
     "output_type": "execute_result"
    }
   ],
   "source": [
    "df.sort_values(by='pi_percent_diff', ascending=False).head(10)"
   ]
  },
  {
   "cell_type": "code",
   "execution_count": 10,
   "metadata": {},
   "outputs": [
    {
     "data": {
      "text/html": [
       "<div>\n",
       "<style scoped>\n",
       "    .dataframe tbody tr th:only-of-type {\n",
       "        vertical-align: middle;\n",
       "    }\n",
       "\n",
       "    .dataframe tbody tr th {\n",
       "        vertical-align: top;\n",
       "    }\n",
       "\n",
       "    .dataframe thead th {\n",
       "        text-align: right;\n",
       "    }\n",
       "</style>\n",
       "<table border=\"1\" class=\"dataframe\">\n",
       "  <thead>\n",
       "    <tr style=\"text-align: right;\">\n",
       "      <th></th>\n",
       "      <th>MDA_com</th>\n",
       "      <th>com_pi</th>\n",
       "      <th>corrected_com</th>\n",
       "      <th>pi_percent_diff</th>\n",
       "      <th>corr_percent_diff</th>\n",
       "    </tr>\n",
       "  </thead>\n",
       "  <tbody>\n",
       "    <tr>\n",
       "      <th>517586</th>\n",
       "      <td>-7.629395e-07</td>\n",
       "      <td>0.230475</td>\n",
       "      <td>2.000000e+01</td>\n",
       "      <td>3.020889e+07</td>\n",
       "      <td>2.621440e+09</td>\n",
       "    </tr>\n",
       "    <tr>\n",
       "      <th>282055</th>\n",
       "      <td>1.209974e-06</td>\n",
       "      <td>19.785179</td>\n",
       "      <td>9.357929e-07</td>\n",
       "      <td>1.635173e+09</td>\n",
       "      <td>2.266010e+01</td>\n",
       "    </tr>\n",
       "    <tr>\n",
       "      <th>114847</th>\n",
       "      <td>3.900705e-06</td>\n",
       "      <td>0.003555</td>\n",
       "      <td>4.091440e-06</td>\n",
       "      <td>9.103339e+04</td>\n",
       "      <td>4.889754e+00</td>\n",
       "    </tr>\n",
       "    <tr>\n",
       "      <th>349360</th>\n",
       "      <td>1.599789e-05</td>\n",
       "      <td>19.514644</td>\n",
       "      <td>1.573563e-05</td>\n",
       "      <td>1.219825e+08</td>\n",
       "      <td>1.639344e+00</td>\n",
       "    </tr>\n",
       "    <tr>\n",
       "      <th>748124</th>\n",
       "      <td>2.079010e-05</td>\n",
       "      <td>19.857598</td>\n",
       "      <td>2.048016e-05</td>\n",
       "      <td>9.551458e+07</td>\n",
       "      <td>1.490826e+00</td>\n",
       "    </tr>\n",
       "    <tr>\n",
       "      <th>218165</th>\n",
       "      <td>3.426075e-05</td>\n",
       "      <td>19.471453</td>\n",
       "      <td>3.376007e-05</td>\n",
       "      <td>5.683302e+07</td>\n",
       "      <td>1.461378e+00</td>\n",
       "    </tr>\n",
       "    <tr>\n",
       "      <th>822420</th>\n",
       "      <td>2.288818e-05</td>\n",
       "      <td>0.153388</td>\n",
       "      <td>2.312064e-05</td>\n",
       "      <td>6.700641e+05</td>\n",
       "      <td>1.015625e+00</td>\n",
       "    </tr>\n",
       "    <tr>\n",
       "      <th>539876</th>\n",
       "      <td>2.940893e-05</td>\n",
       "      <td>0.151334</td>\n",
       "      <td>2.912283e-05</td>\n",
       "      <td>5.144860e+05</td>\n",
       "      <td>9.728415e-01</td>\n",
       "    </tr>\n",
       "    <tr>\n",
       "      <th>816423</th>\n",
       "      <td>4.272461e-05</td>\n",
       "      <td>19.868368</td>\n",
       "      <td>4.312992e-05</td>\n",
       "      <td>4.650323e+07</td>\n",
       "      <td>9.486607e-01</td>\n",
       "    </tr>\n",
       "    <tr>\n",
       "      <th>761263</th>\n",
       "      <td>5.776882e-05</td>\n",
       "      <td>19.880306</td>\n",
       "      <td>5.726814e-05</td>\n",
       "      <td>3.441346e+07</td>\n",
       "      <td>8.666942e-01</td>\n",
       "    </tr>\n",
       "  </tbody>\n",
       "</table>\n",
       "</div>"
      ],
      "text/plain": [
       "             MDA_com     com_pi  corrected_com  pi_percent_diff  \\\n",
       "517586 -7.629395e-07   0.230475   2.000000e+01     3.020889e+07   \n",
       "282055  1.209974e-06  19.785179   9.357929e-07     1.635173e+09   \n",
       "114847  3.900705e-06   0.003555   4.091440e-06     9.103339e+04   \n",
       "349360  1.599789e-05  19.514644   1.573563e-05     1.219825e+08   \n",
       "748124  2.079010e-05  19.857598   2.048016e-05     9.551458e+07   \n",
       "218165  3.426075e-05  19.471453   3.376007e-05     5.683302e+07   \n",
       "822420  2.288818e-05   0.153388   2.312064e-05     6.700641e+05   \n",
       "539876  2.940893e-05   0.151334   2.912283e-05     5.144860e+05   \n",
       "816423  4.272461e-05  19.868368   4.312992e-05     4.650323e+07   \n",
       "761263  5.776882e-05  19.880306   5.726814e-05     3.441346e+07   \n",
       "\n",
       "        corr_percent_diff  \n",
       "517586       2.621440e+09  \n",
       "282055       2.266010e+01  \n",
       "114847       4.889754e+00  \n",
       "349360       1.639344e+00  \n",
       "748124       1.490826e+00  \n",
       "218165       1.461378e+00  \n",
       "822420       1.015625e+00  \n",
       "539876       9.728415e-01  \n",
       "816423       9.486607e-01  \n",
       "761263       8.666942e-01  "
      ]
     },
     "execution_count": 10,
     "metadata": {},
     "output_type": "execute_result"
    }
   ],
   "source": [
    "df.sort_values(by='corr_percent_diff', ascending=False).head(10)"
   ]
  },
  {
   "cell_type": "code",
   "execution_count": 11,
   "metadata": {},
   "outputs": [
    {
     "data": {
      "text/plain": [
       "1000000"
      ]
     },
     "execution_count": 11,
     "metadata": {},
     "output_type": "execute_result"
    }
   ],
   "source": [
    "len(df)"
   ]
  },
  {
   "cell_type": "code",
   "execution_count": 12,
   "metadata": {},
   "outputs": [
    {
     "data": {
      "text/html": [
       "<div>\n",
       "<style scoped>\n",
       "    .dataframe tbody tr th:only-of-type {\n",
       "        vertical-align: middle;\n",
       "    }\n",
       "\n",
       "    .dataframe tbody tr th {\n",
       "        vertical-align: top;\n",
       "    }\n",
       "\n",
       "    .dataframe thead th {\n",
       "        text-align: right;\n",
       "    }\n",
       "</style>\n",
       "<table border=\"1\" class=\"dataframe\">\n",
       "  <thead>\n",
       "    <tr style=\"text-align: right;\">\n",
       "      <th></th>\n",
       "      <th>MDA_com</th>\n",
       "      <th>com_pi</th>\n",
       "      <th>corrected_com</th>\n",
       "      <th>pi_percent_diff</th>\n",
       "      <th>corr_percent_diff</th>\n",
       "    </tr>\n",
       "  </thead>\n",
       "  <tbody>\n",
       "    <tr>\n",
       "      <th>517586</th>\n",
       "      <td>-7.629395e-07</td>\n",
       "      <td>0.230475</td>\n",
       "      <td>19.999999</td>\n",
       "      <td>3.020889e+07</td>\n",
       "      <td>2.621440e+09</td>\n",
       "    </tr>\n",
       "  </tbody>\n",
       "</table>\n",
       "</div>"
      ],
      "text/plain": [
       "             MDA_com    com_pi  corrected_com  pi_percent_diff  \\\n",
       "517586 -7.629395e-07  0.230475      19.999999     3.020889e+07   \n",
       "\n",
       "        corr_percent_diff  \n",
       "517586       2.621440e+09  "
      ]
     },
     "execution_count": 12,
     "metadata": {},
     "output_type": "execute_result"
    }
   ],
   "source": [
    "df.loc[df['pi_percent_diff'] < df['corr_percent_diff']]"
   ]
  },
  {
   "cell_type": "markdown",
   "metadata": {},
   "source": [
    "# Pi outperforming Corr"
   ]
  },
  {
   "cell_type": "code",
   "execution_count": 13,
   "metadata": {},
   "outputs": [
    {
     "data": {
      "text/html": [
       "<div>\n",
       "<style scoped>\n",
       "    .dataframe tbody tr th:only-of-type {\n",
       "        vertical-align: middle;\n",
       "    }\n",
       "\n",
       "    .dataframe tbody tr th {\n",
       "        vertical-align: top;\n",
       "    }\n",
       "\n",
       "    .dataframe thead th {\n",
       "        text-align: right;\n",
       "    }\n",
       "</style>\n",
       "<table border=\"1\" class=\"dataframe\">\n",
       "  <thead>\n",
       "    <tr style=\"text-align: right;\">\n",
       "      <th></th>\n",
       "      <th>MDA_com</th>\n",
       "      <th>com_pi</th>\n",
       "      <th>corrected_com</th>\n",
       "      <th>pi_percent_diff</th>\n",
       "      <th>corr_percent_diff</th>\n",
       "    </tr>\n",
       "  </thead>\n",
       "  <tbody>\n",
       "    <tr>\n",
       "      <th>517586</th>\n",
       "      <td>-7.629395e-07</td>\n",
       "      <td>0.230475</td>\n",
       "      <td>19.999999</td>\n",
       "      <td>3.020889e+07</td>\n",
       "      <td>2.621440e+09</td>\n",
       "    </tr>\n",
       "  </tbody>\n",
       "</table>\n",
       "</div>"
      ],
      "text/plain": [
       "             MDA_com    com_pi  corrected_com  pi_percent_diff  \\\n",
       "517586 -7.629395e-07  0.230475      19.999999     3.020889e+07   \n",
       "\n",
       "        corr_percent_diff  \n",
       "517586       2.621440e+09  "
      ]
     },
     "execution_count": 13,
     "metadata": {},
     "output_type": "execute_result"
    }
   ],
   "source": [
    "df.loc[df['pi_percent_diff'] < df['corr_percent_diff']].head(10)"
   ]
  },
  {
   "cell_type": "markdown",
   "metadata": {},
   "source": [
    "# How many times pi wrapped the wrong way"
   ]
  },
  {
   "cell_type": "code",
   "execution_count": 14,
   "metadata": {},
   "outputs": [
    {
     "data": {
      "text/plain": [
       "36386"
      ]
     },
     "execution_count": 14,
     "metadata": {},
     "output_type": "execute_result"
    }
   ],
   "source": [
    "len(df.loc[np.abs(df['com_pi']- df['MDA_com']) > 19 ])"
   ]
  },
  {
   "cell_type": "markdown",
   "metadata": {},
   "source": [
    "# How many times corrected wrapped the wrong way"
   ]
  },
  {
   "cell_type": "code",
   "execution_count": 15,
   "metadata": {},
   "outputs": [
    {
     "data": {
      "text/plain": [
       "1"
      ]
     },
     "execution_count": 15,
     "metadata": {},
     "output_type": "execute_result"
    }
   ],
   "source": [
    "len(df.loc[np.abs(df['corrected_com']- df['MDA_com']) > 19 ])"
   ]
  },
  {
   "cell_type": "code",
   "execution_count": 16,
   "metadata": {},
   "outputs": [],
   "source": [
    "df_test = df.copy()"
   ]
  },
  {
   "cell_type": "code",
   "execution_count": 17,
   "metadata": {},
   "outputs": [],
   "source": [
    "df_test = df.copy()\n",
    "df_test.loc[np.abs(df_test['MDA_com'] - df_test['com_pi']) > 10, 'com_pi'] = df_test['com_pi'] -20\n",
    "df_test.loc[np.abs(df_test['MDA_com'] - df_test['corr_percent_diff']) > 10, 'corr_percent_diff'] = df_test['corr_percent_diff'] -20\n",
    "df_test['pi_percent_diff'] = (np.abs(df_test['MDA_com'] - df_test['com_pi']) / df_test['MDA_com']) *100\n",
    "df_test['corr_percent_diff'] = (np.abs(df_test['MDA_com'] - df_test['corrected_com']) / df_test['MDA_com']) *100"
   ]
  },
  {
   "cell_type": "code",
   "execution_count": 18,
   "metadata": {},
   "outputs": [
    {
     "data": {
      "text/html": [
       "<div>\n",
       "<style scoped>\n",
       "    .dataframe tbody tr th:only-of-type {\n",
       "        vertical-align: middle;\n",
       "    }\n",
       "\n",
       "    .dataframe tbody tr th {\n",
       "        vertical-align: top;\n",
       "    }\n",
       "\n",
       "    .dataframe thead th {\n",
       "        text-align: right;\n",
       "    }\n",
       "</style>\n",
       "<table border=\"1\" class=\"dataframe\">\n",
       "  <thead>\n",
       "    <tr style=\"text-align: right;\">\n",
       "      <th></th>\n",
       "      <th>MDA_com</th>\n",
       "      <th>com_pi</th>\n",
       "      <th>corrected_com</th>\n",
       "      <th>pi_percent_diff</th>\n",
       "      <th>corr_percent_diff</th>\n",
       "    </tr>\n",
       "  </thead>\n",
       "  <tbody>\n",
       "    <tr>\n",
       "      <th>112915</th>\n",
       "      <td>4.469072e+00</td>\n",
       "      <td>4.469072</td>\n",
       "      <td>4.469072</td>\n",
       "      <td>9.044176e-06</td>\n",
       "      <td>5.962166e-14</td>\n",
       "    </tr>\n",
       "    <tr>\n",
       "      <th>212914</th>\n",
       "      <td>1.895676e+01</td>\n",
       "      <td>18.956757</td>\n",
       "      <td>18.956756</td>\n",
       "      <td>8.583101e-06</td>\n",
       "      <td>3.380061e-07</td>\n",
       "    </tr>\n",
       "    <tr>\n",
       "      <th>242507</th>\n",
       "      <td>1.781406e+01</td>\n",
       "      <td>17.814055</td>\n",
       "      <td>17.814056</td>\n",
       "      <td>7.369010e-06</td>\n",
       "      <td>0.000000e+00</td>\n",
       "    </tr>\n",
       "    <tr>\n",
       "      <th>407115</th>\n",
       "      <td>1.864314e+01</td>\n",
       "      <td>18.643142</td>\n",
       "      <td>18.643141</td>\n",
       "      <td>5.756775e-06</td>\n",
       "      <td>1.182940e-06</td>\n",
       "    </tr>\n",
       "    <tr>\n",
       "      <th>940147</th>\n",
       "      <td>1.797884e+01</td>\n",
       "      <td>17.978837</td>\n",
       "      <td>17.978838</td>\n",
       "      <td>5.435063e-06</td>\n",
       "      <td>0.000000e+00</td>\n",
       "    </tr>\n",
       "    <tr>\n",
       "      <th>997273</th>\n",
       "      <td>1.854081e+01</td>\n",
       "      <td>18.540805</td>\n",
       "      <td>18.540806</td>\n",
       "      <td>4.095381e-06</td>\n",
       "      <td>0.000000e+00</td>\n",
       "    </tr>\n",
       "    <tr>\n",
       "      <th>619650</th>\n",
       "      <td>1.921725e+01</td>\n",
       "      <td>19.217249</td>\n",
       "      <td>19.217249</td>\n",
       "      <td>2.779857e-06</td>\n",
       "      <td>2.481298e-07</td>\n",
       "    </tr>\n",
       "    <tr>\n",
       "      <th>307246</th>\n",
       "      <td>1.835353e+01</td>\n",
       "      <td>18.353527</td>\n",
       "      <td>18.353527</td>\n",
       "      <td>1.618444e-06</td>\n",
       "      <td>0.000000e+00</td>\n",
       "    </tr>\n",
       "    <tr>\n",
       "      <th>478714</th>\n",
       "      <td>1.859223e+01</td>\n",
       "      <td>18.592230</td>\n",
       "      <td>18.592230</td>\n",
       "      <td>4.360748e-07</td>\n",
       "      <td>0.000000e+00</td>\n",
       "    </tr>\n",
       "    <tr>\n",
       "      <th>517586</th>\n",
       "      <td>-7.629395e-07</td>\n",
       "      <td>0.230475</td>\n",
       "      <td>19.999999</td>\n",
       "      <td>-3.020889e+07</td>\n",
       "      <td>-2.621440e+09</td>\n",
       "    </tr>\n",
       "  </tbody>\n",
       "</table>\n",
       "</div>"
      ],
      "text/plain": [
       "             MDA_com     com_pi  corrected_com  pi_percent_diff  \\\n",
       "112915  4.469072e+00   4.469072       4.469072     9.044176e-06   \n",
       "212914  1.895676e+01  18.956757      18.956756     8.583101e-06   \n",
       "242507  1.781406e+01  17.814055      17.814056     7.369010e-06   \n",
       "407115  1.864314e+01  18.643142      18.643141     5.756775e-06   \n",
       "940147  1.797884e+01  17.978837      17.978838     5.435063e-06   \n",
       "997273  1.854081e+01  18.540805      18.540806     4.095381e-06   \n",
       "619650  1.921725e+01  19.217249      19.217249     2.779857e-06   \n",
       "307246  1.835353e+01  18.353527      18.353527     1.618444e-06   \n",
       "478714  1.859223e+01  18.592230      18.592230     4.360748e-07   \n",
       "517586 -7.629395e-07   0.230475      19.999999    -3.020889e+07   \n",
       "\n",
       "        corr_percent_diff  \n",
       "112915       5.962166e-14  \n",
       "212914       3.380061e-07  \n",
       "242507       0.000000e+00  \n",
       "407115       1.182940e-06  \n",
       "940147       0.000000e+00  \n",
       "997273       0.000000e+00  \n",
       "619650       2.481298e-07  \n",
       "307246       0.000000e+00  \n",
       "478714       0.000000e+00  \n",
       "517586      -2.621440e+09  "
      ]
     },
     "execution_count": 18,
     "metadata": {},
     "output_type": "execute_result"
    }
   ],
   "source": [
    "df_test.sort_values(by='pi_percent_diff', ascending=False).tail(10)"
   ]
  },
  {
   "cell_type": "code",
   "execution_count": 19,
   "metadata": {},
   "outputs": [
    {
     "data": {
      "text/html": [
       "<div>\n",
       "<style scoped>\n",
       "    .dataframe tbody tr th:only-of-type {\n",
       "        vertical-align: middle;\n",
       "    }\n",
       "\n",
       "    .dataframe tbody tr th {\n",
       "        vertical-align: top;\n",
       "    }\n",
       "\n",
       "    .dataframe thead th {\n",
       "        text-align: right;\n",
       "    }\n",
       "</style>\n",
       "<table border=\"1\" class=\"dataframe\">\n",
       "  <thead>\n",
       "    <tr style=\"text-align: right;\">\n",
       "      <th></th>\n",
       "      <th>MDA_com</th>\n",
       "      <th>com_pi</th>\n",
       "      <th>corrected_com</th>\n",
       "      <th>pi_percent_diff</th>\n",
       "      <th>corr_percent_diff</th>\n",
       "    </tr>\n",
       "  </thead>\n",
       "  <tbody>\n",
       "    <tr>\n",
       "      <th>282055</th>\n",
       "      <td>0.000001</td>\n",
       "      <td>-0.214821</td>\n",
       "      <td>9.357929e-07</td>\n",
       "      <td>1.775425e+07</td>\n",
       "      <td>22.660098</td>\n",
       "    </tr>\n",
       "    <tr>\n",
       "      <th>114847</th>\n",
       "      <td>0.000004</td>\n",
       "      <td>0.003555</td>\n",
       "      <td>4.091440e-06</td>\n",
       "      <td>9.103339e+04</td>\n",
       "      <td>4.889754</td>\n",
       "    </tr>\n",
       "    <tr>\n",
       "      <th>349360</th>\n",
       "      <td>0.000016</td>\n",
       "      <td>-0.485356</td>\n",
       "      <td>1.573563e-05</td>\n",
       "      <td>3.033977e+06</td>\n",
       "      <td>1.639344</td>\n",
       "    </tr>\n",
       "    <tr>\n",
       "      <th>748124</th>\n",
       "      <td>0.000021</td>\n",
       "      <td>-0.142402</td>\n",
       "      <td>2.048016e-05</td>\n",
       "      <td>6.850495e+05</td>\n",
       "      <td>1.490826</td>\n",
       "    </tr>\n",
       "    <tr>\n",
       "      <th>218165</th>\n",
       "      <td>0.000034</td>\n",
       "      <td>-0.528547</td>\n",
       "      <td>3.376007e-05</td>\n",
       "      <td>1.542818e+06</td>\n",
       "      <td>1.461378</td>\n",
       "    </tr>\n",
       "    <tr>\n",
       "      <th>822420</th>\n",
       "      <td>0.000023</td>\n",
       "      <td>0.153388</td>\n",
       "      <td>2.312064e-05</td>\n",
       "      <td>6.700641e+05</td>\n",
       "      <td>1.015625</td>\n",
       "    </tr>\n",
       "    <tr>\n",
       "      <th>539876</th>\n",
       "      <td>0.000029</td>\n",
       "      <td>0.151334</td>\n",
       "      <td>2.912283e-05</td>\n",
       "      <td>5.144860e+05</td>\n",
       "      <td>0.972842</td>\n",
       "    </tr>\n",
       "    <tr>\n",
       "      <th>816423</th>\n",
       "      <td>0.000043</td>\n",
       "      <td>-0.131632</td>\n",
       "      <td>4.312992e-05</td>\n",
       "      <td>3.081952e+05</td>\n",
       "      <td>0.948661</td>\n",
       "    </tr>\n",
       "    <tr>\n",
       "      <th>761263</th>\n",
       "      <td>0.000058</td>\n",
       "      <td>-0.119694</td>\n",
       "      <td>5.726814e-05</td>\n",
       "      <td>2.072953e+05</td>\n",
       "      <td>0.866694</td>\n",
       "    </tr>\n",
       "    <tr>\n",
       "      <th>905224</th>\n",
       "      <td>0.000028</td>\n",
       "      <td>0.432053</td>\n",
       "      <td>2.808571e-05</td>\n",
       "      <td>1.525287e+06</td>\n",
       "      <td>0.841751</td>\n",
       "    </tr>\n",
       "  </tbody>\n",
       "</table>\n",
       "</div>"
      ],
      "text/plain": [
       "         MDA_com    com_pi  corrected_com  pi_percent_diff  corr_percent_diff\n",
       "282055  0.000001 -0.214821   9.357929e-07     1.775425e+07          22.660098\n",
       "114847  0.000004  0.003555   4.091440e-06     9.103339e+04           4.889754\n",
       "349360  0.000016 -0.485356   1.573563e-05     3.033977e+06           1.639344\n",
       "748124  0.000021 -0.142402   2.048016e-05     6.850495e+05           1.490826\n",
       "218165  0.000034 -0.528547   3.376007e-05     1.542818e+06           1.461378\n",
       "822420  0.000023  0.153388   2.312064e-05     6.700641e+05           1.015625\n",
       "539876  0.000029  0.151334   2.912283e-05     5.144860e+05           0.972842\n",
       "816423  0.000043 -0.131632   4.312992e-05     3.081952e+05           0.948661\n",
       "761263  0.000058 -0.119694   5.726814e-05     2.072953e+05           0.866694\n",
       "905224  0.000028  0.432053   2.808571e-05     1.525287e+06           0.841751"
      ]
     },
     "execution_count": 19,
     "metadata": {},
     "output_type": "execute_result"
    }
   ],
   "source": [
    "df_test.sort_values(by='corr_percent_diff', ascending=False).head(10)"
   ]
  },
  {
   "cell_type": "code",
   "execution_count": 20,
   "metadata": {},
   "outputs": [
    {
     "name": "stdout",
     "output_type": "stream",
     "text": [
      "RMS PI: 5.394683461236905\n",
      "RMS CORR: 0.020000000048558134\n"
     ]
    }
   ],
   "source": [
    "rms_pi = np.sqrt(mean_squared_error(df_test['MDA_com'], df_test['com_pi']))\n",
    "rms_corr = np.sqrt(mean_squared_error(df_test['MDA_com'], df_test['corrected_com']))\n",
    "\n",
    "print(f\"RMS PI: {rms_pi}\")\n",
    "print(f\"RMS CORR: {rms_corr}\")"
   ]
  },
  {
   "cell_type": "code",
   "execution_count": 21,
   "metadata": {},
   "outputs": [
    {
     "data": {
      "text/html": [
       "<div>\n",
       "<style scoped>\n",
       "    .dataframe tbody tr th:only-of-type {\n",
       "        vertical-align: middle;\n",
       "    }\n",
       "\n",
       "    .dataframe tbody tr th {\n",
       "        vertical-align: top;\n",
       "    }\n",
       "\n",
       "    .dataframe thead th {\n",
       "        text-align: right;\n",
       "    }\n",
       "</style>\n",
       "<table border=\"1\" class=\"dataframe\">\n",
       "  <thead>\n",
       "    <tr style=\"text-align: right;\">\n",
       "      <th></th>\n",
       "      <th>MDA_com</th>\n",
       "      <th>com_pi</th>\n",
       "      <th>corrected_com</th>\n",
       "      <th>pi_percent_diff</th>\n",
       "      <th>corr_percent_diff</th>\n",
       "    </tr>\n",
       "  </thead>\n",
       "  <tbody>\n",
       "    <tr>\n",
       "      <th>845784</th>\n",
       "      <td>0.153594</td>\n",
       "      <td>0.513197</td>\n",
       "      <td>0.153595</td>\n",
       "      <td>234.124783</td>\n",
       "      <td>9.313565e-05</td>\n",
       "    </tr>\n",
       "    <tr>\n",
       "      <th>900018</th>\n",
       "      <td>0.304724</td>\n",
       "      <td>1.018116</td>\n",
       "      <td>0.304723</td>\n",
       "      <td>234.111438</td>\n",
       "      <td>1.095373e-04</td>\n",
       "    </tr>\n",
       "    <tr>\n",
       "      <th>458464</th>\n",
       "      <td>0.028066</td>\n",
       "      <td>0.093768</td>\n",
       "      <td>0.028066</td>\n",
       "      <td>234.104738</td>\n",
       "      <td>4.672278e-04</td>\n",
       "    </tr>\n",
       "    <tr>\n",
       "      <th>974057</th>\n",
       "      <td>0.105326</td>\n",
       "      <td>0.351876</td>\n",
       "      <td>0.105326</td>\n",
       "      <td>234.082228</td>\n",
       "      <td>2.701085e-12</td>\n",
       "    </tr>\n",
       "    <tr>\n",
       "      <th>650913</th>\n",
       "      <td>0.256656</td>\n",
       "      <td>0.857375</td>\n",
       "      <td>0.256656</td>\n",
       "      <td>234.055893</td>\n",
       "      <td>9.289414e-05</td>\n",
       "    </tr>\n",
       "  </tbody>\n",
       "</table>\n",
       "</div>"
      ],
      "text/plain": [
       "         MDA_com    com_pi  corrected_com  pi_percent_diff  corr_percent_diff\n",
       "845784  0.153594  0.513197       0.153595       234.124783       9.313565e-05\n",
       "900018  0.304724  1.018116       0.304723       234.111438       1.095373e-04\n",
       "458464  0.028066  0.093768       0.028066       234.104738       4.672278e-04\n",
       "974057  0.105326  0.351876       0.105326       234.082228       2.701085e-12\n",
       "650913  0.256656  0.857375       0.256656       234.055893       9.289414e-05"
      ]
     },
     "execution_count": 21,
     "metadata": {},
     "output_type": "execute_result"
    }
   ],
   "source": [
    "df_stand = df.copy()\n",
    "df_stand = df_stand.sort_values(by='pi_percent_diff', ascending=False)\n",
    "df_stand = df_stand[30000:]\n",
    "df_stand.head(5)"
   ]
  },
  {
   "cell_type": "code",
   "execution_count": 22,
   "metadata": {},
   "outputs": [
    {
     "data": {
      "text/plain": [
       "1.5339107452872067e-05"
      ]
     },
     "execution_count": 22,
     "metadata": {},
     "output_type": "execute_result"
    }
   ],
   "source": [
    "df_stand['corr_percent_diff'].mean()"
   ]
  },
  {
   "cell_type": "code",
   "execution_count": 23,
   "metadata": {},
   "outputs": [
    {
     "data": {
      "text/plain": [
       "15.875702974241989"
      ]
     },
     "execution_count": 23,
     "metadata": {},
     "output_type": "execute_result"
    }
   ],
   "source": [
    "df_stand['pi_percent_diff'].mean()"
   ]
  },
  {
   "cell_type": "code",
   "execution_count": 24,
   "metadata": {},
   "outputs": [
    {
     "data": {
      "text/plain": [
       "0.0"
      ]
     },
     "execution_count": 24,
     "metadata": {},
     "output_type": "execute_result"
    }
   ],
   "source": [
    "np.arctan2(0,0)"
   ]
  },
  {
   "cell_type": "code",
   "execution_count": 25,
   "metadata": {},
   "outputs": [
    {
     "data": {
      "text/plain": [
       "1000000"
      ]
     },
     "execution_count": 25,
     "metadata": {},
     "output_type": "execute_result"
    }
   ],
   "source": [
    "len(MDA_com)"
   ]
  },
  {
   "cell_type": "code",
   "execution_count": null,
   "metadata": {},
   "outputs": [],
   "source": []
  },
  {
   "cell_type": "code",
   "execution_count": null,
   "metadata": {},
   "outputs": [],
   "source": []
  }
 ],
 "metadata": {
  "kernelspec": {
   "display_name": "base",
   "language": "python",
   "name": "python3"
  },
  "language_info": {
   "codemirror_mode": {
    "name": "ipython",
    "version": 3
   },
   "file_extension": ".py",
   "mimetype": "text/x-python",
   "name": "python",
   "nbconvert_exporter": "python",
   "pygments_lexer": "ipython3",
   "version": "3.12.2"
  }
 },
 "nbformat": 4,
 "nbformat_minor": 2
}
