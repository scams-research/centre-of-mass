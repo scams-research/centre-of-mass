{
 "cells": [
  {
   "cell_type": "code",
   "execution_count": 1,
   "metadata": {},
   "outputs": [],
   "source": [
    "import MDAnalysis as mda\n",
    "from MDAnalysis.coordinates.memory import MemoryReader\n",
    "from MDAnalysis.transformations import wrap \n",
    "from MDAnalysis.transformations.boxdimensions import set_dimensions\n",
    "import numpy as np\n",
    "import pandas as pd\n",
    "from sklearn.metrics import mean_squared_error\n",
    "import pickle as pkl\n",
    "from scipy.optimize import minimize"
   ]
  },
  {
   "cell_type": "code",
   "execution_count": 19,
   "metadata": {},
   "outputs": [],
   "source": [
    "def pi_centrer(coords,weights,box_min, box_width):\n",
    "\n",
    "    frac_coords = (coords - box_min) / box_width\n",
    "    theta = frac_coords * (2 * np.pi) - np.pi\n",
    "    xi = np.cos(theta)\n",
    "    zeta = np.sin(theta)\n",
    "    xi_bar = np.average(xi,weights=weights)\n",
    "    zeta_bar = np.average(zeta,weights=weights)\n",
    "    theta_bar = np.arctan2(zeta_bar, xi_bar)\n",
    "    new_s_coords = (theta_bar + np.pi) / (2 * np.pi)\n",
    "    new_s_coords = new_s_coords*box_width + box_min\n",
    "\n",
    "    return new_s_coords"
   ]
  },
  {
   "cell_type": "code",
   "execution_count": null,
   "metadata": {},
   "outputs": [],
   "source": [
    "# masses = np.random.rand(5)*10   #np.array([10000,1,1,1,1])\n",
    "# coords = np.random.rand(5,3)*20 \n",
    "from tqdm import tqdm\n",
    "\n",
    "\n",
    "\n",
    "# masses[np.random.randint(0,particles)] *= 100\n",
    "\n",
    "\n",
    "\n",
    "def test_pi_centrer(x):\n",
    "\n",
    "    particles = 50\n",
    "    masses = x[:particles]\n",
    "    x_coords = x[particles:]\n",
    "    \n",
    "    box_min = 0\n",
    "    box_max = 20\n",
    "    box_width = box_max - box_min\n",
    "\n",
    "    yz = np.zeros((2, particles))\n",
    "    x_coords = x_coords % 20\n",
    "    coords = np.concatenate((x_coords[np.newaxis, :], yz), axis=0).T\n",
    "\n",
    "\n",
    "    u = mda.Universe.empty(particles ,trajectory = True)\n",
    "    u.add_TopologyAttr('masses',masses)\n",
    "    #u.add_TopologyAttr('dimensions', np.array[20,20,20,90,90,90])\n",
    "    u.transfer_to_memory()\n",
    "    #u.add_TopologyAttr('bonds', )\n",
    "\n",
    "\n",
    "\n",
    "    reader = MemoryReader(coords)\n",
    "    u.trajectory = reader\n",
    "    dim = np.array([box_max, box_max, box_max, 90, 90, 90])\n",
    "    transform1 = mda.transformations.boxdimensions.set_dimensions(dim)\n",
    "    transform2 = wrap(u.atoms)\n",
    "    workflow  = [transform1,transform2]\n",
    "    u.trajectory.add_transformations(*workflow)\n",
    "\n",
    "    u.add_bonds([tuple(range(i, i+2)) for i in range(0, 4)])\n",
    "\n",
    "    u.atoms.unwrap()\n",
    "    MDA_com = u.atoms.center_of_mass()[0]\n",
    "    com_pi = pi_centrer(coords[:,0], masses,box_min,box_width)\n",
    "    corrected_com = (np.average(((coords[:,0] - (com_pi + 0.5*box_width) ) % box_max), weights = masses) + (com_pi + 0.5*box_width)) % box_max\n",
    "    wrapped = ((coords[:,0] - (com_pi + 0.5*box_width) ) % box_max)\n",
    "\n",
    "    return -np.abs(MDA_com - com_pi) "
   ]
  },
  {
   "cell_type": "code",
   "execution_count": null,
   "metadata": {},
   "outputs": [],
   "source": [
    "# def coord_range_constraint(x):\n",
    "#     x_coords = x[particles:]  # Extract x_coords from the combined input\n",
    "#     return 10 - (np.max(x_coords) - np.min(x_coords))"
   ]
  },
  {
   "cell_type": "code",
   "execution_count": null,
   "metadata": {},
   "outputs": [
    {
     "name": "stdout",
     "output_type": "stream",
     "text": [
      "Optimized masses:RUNNING THE L-BFGS-B CODE\n",
      "\n",
      "           * * *\n",
      "\n",
      "Machine precision = 2.220D-16\n",
      " [1. 1. 1. 1. 1. 1. 1. 1. 1. 1. 1. 1. 1. 1. 1. 1. 1. 1. 1. 1. 1. 1. 1. 1.\n",
      " 1. 1. 1. 1. 1. 1. 1. 1. 1. 1. 1. 1. 1. 1. 1. 1. 1. 1. 1. 1. 1. 1. 1. 1.\n",
      " 1. 1.]\n",
      "Optimized x_coords: [14.9  5.1 14.9  5.1  5.1 14.9  5.1  5.1 14.9  5.1  5.1 14.9 14.9  5.1\n",
      " 14.9 14.9 14.9 14.9  5.1 14.9 14.9 14.9 14.9 14.9 14.9  5.1  5.1 14.9\n",
      "  5.1 14.9  5.1  5.1 14.9  5.1 14.9 14.9 14.9 14.9 14.9  5.1 14.9 14.9\n",
      " 14.9 14.9  5.1 14.9  5.1  5.1  5.1 14.9]\n",
      " N =           50     M =           10\n",
      "\n",
      "At X0        50 variables are exactly at the bounds\n",
      "\n",
      "At iterate    0    f= -3.52389D+00    |proj g|=  0.00000D+00\n",
      "\n",
      "           * * *\n",
      "\n",
      "Tit   = total number of iterations\n",
      "Tnf   = total number of function evaluations\n",
      "Tnint = total number of segments explored during Cauchy searches\n",
      "Skip  = number of BFGS updates skipped\n",
      "Nact  = number of active bounds at final generalized Cauchy point\n",
      "Projg = norm of the final projected gradient\n",
      "F     = final function value\n",
      "\n",
      "           * * *\n",
      "\n",
      "   N    Tit     Tnf  Tnint  Skip  Nact     Projg        F\n",
      "   50      0      1      0     0     0   0.000D+00  -3.524D+00\n",
      "  F =  -3.5238921797528917     \n",
      "\n",
      "CONVERGENCE: NORM_OF_PROJECTED_GRADIENT_<=_PGTOL            \n"
     ]
    }
   ],
   "source": [
    "particles = 50\n",
    "masses = np.ones(particles)\n",
    "x_coords = (np.random.uniform(low = -5, high = 5, size = particles)).astype('float32') % 20\n",
    "\n",
    "\n",
    "# Initial guess for optimization\n",
    "initial_guess = np.concatenate((masses, x_coords))\n",
    "\n",
    "\n",
    "# Bounds and constraints\n",
    "# constraints = {'type': 'ineq', 'fun': coord_range_constraint}\n",
    "# Example: masses between 0.1 and 100, x_coords between -5 and 5\n",
    "bounds = [(1,1)] * particles + [(5.1, 14.9)] * particles\n",
    "\n",
    "# Perform the optimization\n",
    "result = minimize(test_pi_centrer, \n",
    "                  initial_guess, \n",
    "                  bounds=bounds, \n",
    "                  #constraints=constraints,\n",
    "                  method='L-BFGS-B',\n",
    "                  options={'maxiter': 1000000, 'maxfun': 10000, 'disp': True})\n",
    "\n",
    "# Optimized masses and x_coords\n",
    "optimized_masses = result.x[:particles]\n",
    "optimized_x_coords = result.x[particles:]\n",
    "\n",
    "print(\"Optimized masses:\", optimized_masses)\n",
    "print(\"Optimized x_coords:\", optimized_x_coords)"
   ]
  },
  {
   "cell_type": "code",
   "execution_count": 53,
   "metadata": {},
   "outputs": [
    {
     "name": "stdout",
     "output_type": "stream",
     "text": [
      "Optimized masses: [1. 1. 1. 1. 1. 1. 1. 1. 1. 1. 1. 1. 1. 1. 1. 1. 1. 1. 1. 1. 1. 1. 1. 1.\n",
      " 1. 1. 1. 1. 1. 1. 1. 1. 1. 1. 1. 1. 1. 1. 1. 1. 1. 1. 1. 1. 1. 1. 1. 1.\n",
      " 1. 1.]\n",
      "Optimized x_coords: [14.9  5.1 14.9  5.1  5.1 14.9  5.1  5.1 14.9  5.1  5.1 14.9 14.9  5.1\n",
      " 14.9 14.9 14.9 14.9  5.1 14.9 14.9 14.9 14.9 14.9 14.9  5.1  5.1 14.9\n",
      "  5.1 14.9  5.1  5.1 14.9  5.1 14.9 14.9 14.9 14.9 14.9  5.1 14.9 14.9\n",
      " 14.9 14.9  5.1 14.9  5.1  5.1  5.1 14.9]\n"
     ]
    }
   ],
   "source": [
    "print(\"Optimized masses:\", optimized_masses)\n",
    "print(\"Optimized x_coords:\", optimized_x_coords)"
   ]
  },
  {
   "cell_type": "code",
   "execution_count": 63,
   "metadata": {},
   "outputs": [
    {
     "data": {
      "text/plain": [
       "-3.5238921797528917"
      ]
     },
     "execution_count": 63,
     "metadata": {},
     "output_type": "execute_result"
    }
   ],
   "source": [
    "test_pi_centrer(np.concatenate((optimized_masses, optimized_x_coords)))"
   ]
  },
  {
   "cell_type": "code",
   "execution_count": 64,
   "metadata": {},
   "outputs": [],
   "source": [
    "def give_coms(x):\n",
    "\n",
    "    particles = 50\n",
    "    masses = x[:particles]\n",
    "    x_coords = x[particles:]\n",
    "    \n",
    "    box_min = 0\n",
    "    box_max = 20\n",
    "    box_width = box_max - box_min\n",
    "\n",
    "    yz = np.zeros((2, particles))\n",
    "    coords = np.concatenate((x_coords[np.newaxis, :], yz), axis=0).T\n",
    "\n",
    "\n",
    "    u = mda.Universe.empty(50 ,trajectory = True)\n",
    "    u.add_TopologyAttr('masses',masses)\n",
    "    #u.add_TopologyAttr('dimensions', np.array[20,20,20,90,90,90])\n",
    "    u.transfer_to_memory()\n",
    "    #u.add_TopologyAttr('bonds', )\n",
    "\n",
    "\n",
    "\n",
    "    reader = MemoryReader(coords)\n",
    "    u.trajectory = reader\n",
    "    dim = np.array([box_max, box_max, box_max, 90, 90, 90])\n",
    "    transform1 = mda.transformations.boxdimensions.set_dimensions(dim)\n",
    "    transform2 = wrap(u.atoms)\n",
    "    workflow  = [transform1,transform2]\n",
    "    u.trajectory.add_transformations(*workflow)\n",
    "\n",
    "    u.add_bonds([tuple(range(i, i+2)) for i in range(0, 4)])\n",
    "\n",
    "    u.atoms.unwrap()\n",
    "    MDA_com = u.atoms.center_of_mass()[0]\n",
    "    com_pi = pi_centrer(coords[:,0], masses,box_min,box_width)\n",
    "    corrected_com = (np.average(((coords[:,0] - (com_pi + 0.5*box_width) ) % box_max), weights = masses) + (com_pi + 0.5*box_width)) % box_max\n",
    "    wrapped = ((coords[:,0] - (com_pi + 0.5*box_width) ) % box_max)\n",
    "\n",
    "    return MDA_com,com_pi,corrected_com,coords,masses"
   ]
  },
  {
   "cell_type": "code",
   "execution_count": 67,
   "metadata": {},
   "outputs": [
    {
     "name": "stdout",
     "output_type": "stream",
     "text": [
      "MDA_com: 10.97999973297119\n",
      "com_pi: 14.503891912724082\n",
      "corrected_com: 10.98\n"
     ]
    }
   ],
   "source": [
    "MDA_com,com_pi,corrected_com,coords,masses = give_coms(np.concatenate((optimized_masses, optimized_x_coords)))\n",
    "print(f'MDA_com: {MDA_com}')\n",
    "print(f'com_pi: {com_pi}')\n",
    "print(f'corrected_com: {corrected_com}')"
   ]
  },
  {
   "cell_type": "code",
   "execution_count": 68,
   "metadata": {},
   "outputs": [],
   "source": [
    "import matplotlib.pyplot as plt"
   ]
  },
  {
   "cell_type": "code",
   "execution_count": 70,
   "metadata": {},
   "outputs": [
    {
     "data": {
      "text/plain": [
       "<matplotlib.lines.Line2D at 0x318a5a5d0>"
      ]
     },
     "execution_count": 70,
     "metadata": {},
     "output_type": "execute_result"
    },
    {
     "data": {
      "image/png": "[encoded data removed]",
      "text/plain": [
       "<Figure size 640x480 with 1 Axes>"
      ]
     },
     "metadata": {},
     "output_type": "display_data"
    }
   ],
   "source": [
    "fig,ax = plt.subplots()\n",
    "\n",
    "ax.set_xlim(-2,22)\n",
    "ax.set_ylim(-5,5)\n",
    "\n",
    "# draw lines\n",
    "xmin = 0\n",
    "xmax = 20\n",
    "y1 = 0\n",
    "height = 1\n",
    "\n",
    "ax.hlines(y1, xmin, xmax)\n",
    "ax.vlines(xmin, y1 - height / 2., y1 + height / 2.)\n",
    "ax.vlines(xmax, y1 - height / 2., y1 + height / 2.)\n",
    "ax.scatter(coords[:,0],np.zeros(particles), s = np.sqrt(masses)*100, color = 'red')\n",
    "ax.axvline(MDA_com, color = 'green')\n",
    "ax.axvline(com_pi, color = 'red')\n",
    "ax.axvline(corrected_com,color = 'orange')\n",
    "\n",
    "# ax[1].set_xlim(-2,22)\n",
    "# ax[1].set_ylim(-5,5)\n",
    "# ax[1].hlines(y1, xmin, xmax)\n",
    "# ax[1].vlines(xmin, y1 - height / 2., y1 + height / 2.)\n",
    "# ax[1].vlines(xmax, y1 - height / 2., y1 + height / 2.)\n",
    "# ax[1].scatter(wrapped,np.zeros(5),s = np.sqrt(masses)*10, color = 'red')"
   ]
  },
  {
   "cell_type": "code",
   "execution_count": null,
   "metadata": {},
   "outputs": [],
   "source": []
  }
 ],
 "metadata": {
  "kernelspec": {
   "display_name": "base",
   "language": "python",
   "name": "python3"
  },
  "language_info": {
   "codemirror_mode": {
    "name": "ipython",
    "version": 3
   },
   "file_extension": ".py",
   "mimetype": "text/x-python",
   "name": "python",
   "nbconvert_exporter": "python",
   "pygments_lexer": "ipython3",
   "version": "3.12.2"
  }
 },
 "nbformat": 4,
 "nbformat_minor": 2
}
